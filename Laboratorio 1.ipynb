{
 "cells": [
  {
   "cell_type": "markdown",
   "metadata": {},
   "source": [
    "Task 1: Regresión Lineal \n",
    "\n",
    "1.1 El coeficiente “3w2” representa cuanto cambia la variable dependiente “y” por cada unidad adicional de la característica \"X2”. Siendo más específicos, por cada incremento de 1 en “X2”, “y \"aumentara “3W2”\n",
    "1.2 La multicolinealidad es cuando dos o más variables independientes están altamente relacionadas entre sí, causando que sea más dificultosa la tarea de saber cuál de ellos es realmente el responsable del cambio \n"
   ]
  },
  {
   "cell_type": "markdown",
   "metadata": {},
   "source": [
    "#TASK 2.0 Preparacion de dataset"
   ]
  },
  {
   "cell_type": "markdown",
   "metadata": {},
   "source": [
    "Exploracion de datos inicial"
   ]
  },
  {
   "cell_type": "code",
   "execution_count": 13,
   "metadata": {},
   "outputs": [
    {
     "name": "stdout",
     "output_type": "stream",
     "text": [
      "Distribución inicial de la columna 'status':\n",
      "legitimate    5715\n",
      "phishing      5715\n",
      "Name: status, dtype: int64\n",
      "\n",
      "Verificacion de datos nulos\n",
      "url                0\n",
      "length_url         0\n",
      "length_hostname    0\n",
      "ip                 0\n",
      "nb_dots            0\n",
      "                  ..\n",
      "web_traffic        0\n",
      "dns_record         0\n",
      "google_index       0\n",
      "page_rank          0\n",
      "status             0\n",
      "Length: 89, dtype: int64\n",
      "\n",
      "Resumen estadistico de los datos\n",
      "         length_url  length_hostname            ip       nb_dots  \\\n",
      "count  11430.000000     11430.000000  11430.000000  11430.000000   \n",
      "mean      61.126684        21.090289      0.150569      2.480752   \n",
      "std       55.297318        10.777171      0.357644      1.369686   \n",
      "min       12.000000         4.000000      0.000000      1.000000   \n",
      "25%       33.000000        15.000000      0.000000      2.000000   \n",
      "50%       47.000000        19.000000      0.000000      2.000000   \n",
      "75%       71.000000        24.000000      0.000000      3.000000   \n",
      "max     1641.000000       214.000000      1.000000     24.000000   \n",
      "\n",
      "         nb_hyphens         nb_at         nb_qm        nb_and    nb_or  \\\n",
      "count  11430.000000  11430.000000  11430.000000  11430.000000  11430.0   \n",
      "mean       0.997550      0.022222      0.141207      0.162292      0.0   \n",
      "std        2.087087      0.155500      0.364456      0.821337      0.0   \n",
      "min        0.000000      0.000000      0.000000      0.000000      0.0   \n",
      "25%        0.000000      0.000000      0.000000      0.000000      0.0   \n",
      "50%        0.000000      0.000000      0.000000      0.000000      0.0   \n",
      "75%        1.000000      0.000000      0.000000      0.000000      0.0   \n",
      "max       43.000000      4.000000      3.000000     19.000000      0.0   \n",
      "\n",
      "              nb_eq  ...   empty_title  domain_in_title  \\\n",
      "count  11430.000000  ...  11430.000000     11430.000000   \n",
      "mean       0.293176  ...      0.124759         0.775853   \n",
      "std        0.998317  ...      0.330460         0.417038   \n",
      "min        0.000000  ...      0.000000         0.000000   \n",
      "25%        0.000000  ...      0.000000         1.000000   \n",
      "50%        0.000000  ...      0.000000         1.000000   \n",
      "75%        0.000000  ...      0.000000         1.000000   \n",
      "max       19.000000  ...      1.000000         1.000000   \n",
      "\n",
      "       domain_with_copyright  whois_registered_domain  \\\n",
      "count           11430.000000             11430.000000   \n",
      "mean                0.439545                 0.072878   \n",
      "std                 0.496353                 0.259948   \n",
      "min                 0.000000                 0.000000   \n",
      "25%                 0.000000                 0.000000   \n",
      "50%                 0.000000                 0.000000   \n",
      "75%                 1.000000                 0.000000   \n",
      "max                 1.000000                 1.000000   \n",
      "\n",
      "       domain_registration_length    domain_age   web_traffic    dns_record  \\\n",
      "count                11430.000000  11430.000000  1.143000e+04  11430.000000   \n",
      "mean                   492.532196   4062.543745  8.567566e+05      0.020122   \n",
      "std                    814.769415   3107.784600  1.995606e+06      0.140425   \n",
      "min                     -1.000000    -12.000000  0.000000e+00      0.000000   \n",
      "25%                     84.000000    972.250000  0.000000e+00      0.000000   \n",
      "50%                    242.000000   3993.000000  1.651000e+03      0.000000   \n",
      "75%                    449.000000   7026.750000  3.738455e+05      0.000000   \n",
      "max                  29829.000000  12874.000000  1.076799e+07      1.000000   \n",
      "\n",
      "       google_index     page_rank  \n",
      "count  11430.000000  11430.000000  \n",
      "mean       0.533946      3.185739  \n",
      "std        0.498868      2.536955  \n",
      "min        0.000000      0.000000  \n",
      "25%        0.000000      1.000000  \n",
      "50%        1.000000      3.000000  \n",
      "75%        1.000000      5.000000  \n",
      "max        1.000000     10.000000  \n",
      "\n",
      "[8 rows x 87 columns]\n"
     ]
    }
   ],
   "source": [
    "import pandas as pd\n",
    "from sklearn.preprocessing import LabelEncoder\n",
    "\n",
    "filepath = \"dataset_phishing.csv\"\n",
    "dataset = pd.read_csv(filepath)\n",
    "#Exploracion de datos - Inciso 2.0\n",
    "print(\"Distribución inicial de la columna 'status':\")\n",
    "print(dataset['status'].value_counts())\n",
    "print(\"\\nVerificacion de datos nulos\")\n",
    "print(dataset.isnull().sum())\n",
    "print(\"\\nResumen estadistico de los datos\")\n",
    "print(dataset.describe())\n",
    "\n",
    "\n"
   ]
  },
  {
   "cell_type": "markdown",
   "metadata": {},
   "source": [
    "Encoding de las columnas (Unicamente de la columna status)"
   ]
  },
  {
   "cell_type": "code",
   "execution_count": null,
   "metadata": {},
   "outputs": [],
   "source": [
    "#Encoding de las columnas\n",
    "# Ignorar la columna URL\n",
    "if 'url' in dataset.columns:\n",
    "    dataset = dataset.drop(columns=['url'])\n",
    "# Codificar la columna status\n",
    "if 'status' in dataset.columns:\n",
    "    label_encoder = LabelEncoder()\n",
    "    dataset['status'] = label_encoder.fit_transform(dataset['status'])\n",
    "\n",
    "# Mostrar las primeras filas del dataset modificado\n",
    "dataset.head(), dataset.info()"
   ]
  },
  {
   "cell_type": "markdown",
   "metadata": {},
   "source": [
    "Revision de balanceo de dataset"
   ]
  },
  {
   "cell_type": "code",
   "execution_count": null,
   "metadata": {},
   "outputs": [],
   "source": [
    "# Verificar la distribución de las clases en la columna 'status'\n",
    "class_distribution = dataset['status'].value_counts()\n",
    "class_distribution_percentage = dataset['status'].value_counts(normalize=True) * 100\n",
    "\n",
    "class_distribution, class_distribution_percentage\n"
   ]
  },
  {
   "cell_type": "markdown",
   "metadata": {},
   "source": [
    "Verificacion si es necesario el escalamiento de variables"
   ]
  },
  {
   "cell_type": "code",
   "execution_count": null,
   "metadata": {},
   "outputs": [],
   "source": [
    "# Calcular el rango (mínimo y máximo) de las características numéricas\n",
    "feature_ranges = dataset.drop(columns=['status']).agg(['min', 'max']).T\n",
    "feature_ranges['range'] = feature_ranges['max'] - feature_ranges['min']\n",
    "feature_ranges_sorted = feature_ranges.sort_values('range', ascending=False)\n",
    "feature_ranges_sorted.head()\n",
    "\n",
    "\n"
   ]
  },
  {
   "cell_type": "markdown",
   "metadata": {},
   "source": [
    "Escalamiento de variables"
   ]
  },
  {
   "cell_type": "code",
   "execution_count": null,
   "metadata": {},
   "outputs": [],
   "source": [
    "from sklearn.preprocessing import StandardScaler\n",
    "\n",
    "# Separar las características y la etiqueta\n",
    "X = dataset.drop(columns=['status'])\n",
    "y = dataset['status']\n",
    "\n",
    "# Escalar las características\n",
    "scaler = StandardScaler()\n",
    "X_scaled = scaler.fit_transform(X)\n",
    "\n",
    "# Convertir X_scaled de nuevo a un DataFrame para mantener las columnas originales\n",
    "X_scaled_df = pd.DataFrame(X_scaled, columns=X.columns)\n",
    "\n",
    "# Mostrar las primeras filas del dataset escalado\n",
    "X_scaled_df.head()\n"
   ]
  }
 ],
 "metadata": {
  "kernelspec": {
   "display_name": "Python 3",
   "language": "python",
   "name": "python3"
  },
  "language_info": {
   "codemirror_mode": {
    "name": "ipython",
    "version": 3
   },
   "file_extension": ".py",
   "mimetype": "text/x-python",
   "name": "python",
   "nbconvert_exporter": "python",
   "pygments_lexer": "ipython3",
   "version": "3.10.4"
  }
 },
 "nbformat": 4,
 "nbformat_minor": 2
}
